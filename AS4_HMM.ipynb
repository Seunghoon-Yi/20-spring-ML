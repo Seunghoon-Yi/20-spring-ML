{
  "nbformat": 4,
  "nbformat_minor": 0,
  "metadata": {
    "colab": {
      "name": "AS4-HMM.ipynb",
      "provenance": [],
      "collapsed_sections": [],
      "include_colab_link": true
    },
    "kernelspec": {
      "display_name": "torch12",
      "language": "python",
      "name": "torch12"
    },
    "language_info": {
      "codemirror_mode": {
        "name": "ipython",
        "version": 3
      },
      "file_extension": ".py",
      "mimetype": "text/x-python",
      "name": "python",
      "nbconvert_exporter": "python",
      "pygments_lexer": "ipython3",
      "version": "3.6.9"
    }
  },
  "cells": [
    {
      "cell_type": "markdown",
      "metadata": {
        "id": "view-in-github",
        "colab_type": "text"
      },
      "source": [
        "<a href=\"https://colab.research.google.com/github/Seunghoon-Yi/20-spring-ML/blob/master/AS4_HMM.ipynb\" target=\"_parent\"><img src=\"https://colab.research.google.com/assets/colab-badge.svg\" alt=\"Open In Colab\"/></a>"
      ]
    },
    {
      "cell_type": "markdown",
      "metadata": {
        "colab_type": "text",
        "id": "pjDL6W2Yg0SG"
      },
      "source": [
        "# M2608.001300 기계학습 기초 및 전기정보 응용<br> Assignment 4: Hidden Markov Model (HMM)"
      ]
    },
    {
      "cell_type": "code",
      "metadata": {
        "colab_type": "code",
        "id": "nuOq29jxKEmf",
        "colab": {}
      },
      "source": [
        "# Code from Chapter 16 of Machine Learning: An Algorithmic Perspective (2nd Edition)\n",
        "# by Stephen Marsland (http://stephenmonika.net)\n",
        "\n",
        "# You are free to use, change, or redistribute the code in any way you wish for\n",
        "# non-commercial purposes, but please maintain the name of the original author.\n",
        "# This code comes with no warranty of any kind.\n",
        "\n",
        "# Stephen Marsland, 2008, 2014\n",
        "\n",
        "# A basic Hidden Markov Model"
      ],
      "execution_count": null,
      "outputs": []
    },
    {
      "cell_type": "markdown",
      "metadata": {
        "colab_type": "text",
        "id": "ZR7FCRJFg5d5"
      },
      "source": [
        "## Setup\n",
        "Check that Python 3.5 or later is installed (although Python 2.x may work, it is deprecated so we strongly recommend you use Python 3 instead)."
      ]
    },
    {
      "cell_type": "code",
      "metadata": {
        "colab_type": "code",
        "id": "QBC0Nvu2KFnr",
        "colab": {}
      },
      "source": [
        "# Python >=3.5 is required\n",
        "import sys\n",
        "assert sys.version_info >= (3, 5)\n",
        "\n",
        "# Common imports\n",
        "import numpy as np\n",
        "from pandas import DataFrame\n",
        "\n",
        "# to make this notebook's output stable across runs\n",
        "np.random.seed(4)"
      ],
      "execution_count": null,
      "outputs": []
    },
    {
      "cell_type": "markdown",
      "metadata": {
        "colab_type": "text",
        "id": "jfFiAOFDhp72"
      },
      "source": [
        "## Problem 1. Evaluation problem\n",
        "Get the probability of seeing an observation. <br>\n",
        "We can use the following 2 algorithms:\n",
        "<br>\n",
        "* <font color=blue>*Forward algorithm*</font> (dynamic programming)\n",
        "* <font color=blue>*Backward algorithm*</font> (dynamic programming)"
      ]
    },
    {
      "cell_type": "code",
      "metadata": {
        "colab_type": "code",
        "id": "_OOmLzmHKFrh",
        "colab": {}
      },
      "source": [
        "scaling = False"
      ],
      "execution_count": null,
      "outputs": []
    },
    {
      "cell_type": "code",
      "metadata": {
        "colab_type": "code",
        "id": "AwbnzB1JKTt9",
        "colab": {}
      },
      "source": [
        "\"\"\"\n",
        "Let's denote the parameters of HMM model as,\n",
        "\n",
        "pi : initial state probability\n",
        "a : transition probability\n",
        "b : emission probability\n",
        "obs : observation sequence\n",
        "\"\"\"\n",
        "def HMMfwd(pi, a, b, obs):\n",
        "\n",
        "\t# TODO: Forward algorithm\n",
        "\t####################### YOUR CODE HERE #######################\n",
        "\tN_st = len(a)\n",
        "\tN_t = len(obs)\n",
        "####alpha initialization, kibun이 observation in each time t with state s_t. Q) 그럼 얘는 뭘 하고 있었는가(b)?\n",
        "# 그러니까 우리가 구해야 하는건 뭘 하고 있었는지의 ML estimation sequence\n",
        "\talpha = np.zeros((N_st, N_t))\n",
        "\talpha[:,0] = pi*b[obs[0],:]\n",
        "\n",
        "\tc = np.ones(N_t)                                        #check dimension in #3\n",
        "\tfor T in range(1, N_t):\t\t\t\t\t\t\t\t\t#time dimension\n",
        "\t\tfor S in np.arange(N_st):\n",
        "\t\t\talpha[S,T] = b[obs[T],S]*np.sum(alpha[:,T-1]*a[S,:]) #모든 state에서 특정 state로 전이확률\n",
        "\t\tif scaling:\n",
        "\t\t\tc[T] = np.sum(alpha[:,T])\n",
        "\t\t\talpha[:,T]/=c[T]\t\t\t\t\t#columnwise normalization  \n",
        "\t##############################################################\n",
        "\treturn alpha,c\n",
        "\n",
        "def HMMbwd(a, b, obs, c):\n",
        "\n",
        "\t# TODO: Backward algorithm\n",
        "\t####################### YOUR CODE HERE #######################\n",
        "\tN_st = np.shape(b)[0]\n",
        "\tN_t = len(obs)\n",
        " \n",
        "\tbeta = np.zeros((N_st, N_t))\n",
        "\tbeta[:,N_t-1] = 1\t\t\t\t\t\t\t\t\t  #final column = 1\n",
        "\tfor T in range(N_t-2, -1, -1):\n",
        "\t\tfor S in range(N_st):\n",
        "\t\t\tbeta[S,T] = np.sum(beta[:,T+1]*b[:,obs[T+1]]*a[S,:]) #한 state에서 모든 state로 전이확률\n",
        "\tfor T in range(N_t):\n",
        "\t\tbeta[:,T]/=c[T]\n",
        "\t##############################################################\n",
        "\treturn beta"
      ],
      "execution_count": null,
      "outputs": []
    },
    {
      "cell_type": "markdown",
      "metadata": {
        "colab_type": "text",
        "id": "MpX0npdWjhzd"
      },
      "source": [
        "## Problem 2. Decoding problem\n",
        "Get the underlying state sequence of an observation. <br>\n",
        "We can use the <font color=blue>*Viterbi algorithm*</font> (dynamic programming)."
      ]
    },
    {
      "cell_type": "code",
      "metadata": {
        "colab_type": "code",
        "id": "FRiouIgAKTj4",
        "colab": {}
      },
      "source": [
        "def Viterbi(pi, a, b, obs):\n",
        "\t# TODO: Viterbi algorithm\n",
        "\t####################### YOUR CODE HERE #######################\n",
        "\tN_st = len(a)\n",
        "\tN_t = len(obs)\n",
        "\t\n",
        "\tpath = np.zeros(N_t)\n",
        "\tdelta = np.zeros((N_st,N_t))\t\t\t\t\t\t\t#states*timestep\n",
        "\tpsi = np.zeros((N_st,N_t))\n",
        "##initialization\n",
        "\tdelta[:,0] = pi*b[obs[0],:]\n",
        "\tpsi[:,0] = 0\n",
        "\tfor t in range(1,N_t):\n",
        "\t\tfor s_n in range(N_st):\n",
        "\t\t\tdelta[s_n,t] = np.max(delta[:,t-1]*a[s_n,:])*b[obs[t],s_n]\n",
        "\t\t\tpsi[s_n,t] = np.argmax(delta[:,t-1]*a[s_n,:]) \t  #maximum connection value index\n",
        "\t\n",
        "\tpath[N_t-1] = np.argmax(delta[:,N_t-1])                   #maximum probable 'final' path의 '종착점' index\n",
        "\tfor t in range(N_t-2, -1, -1):\t\t\t\t\t\t\t  #path 맨마지막 앞부터\n",
        "\t\t#print(path[t+1])\n",
        "\t\tpath[t] = psi[int(path[t+1]), t+1]\t\t\t\t\n",
        "\t##############################################################\n",
        "\treturn path, delta, psi"
      ],
      "execution_count": null,
      "outputs": []
    },
    {
      "cell_type": "markdown",
      "metadata": {
        "colab_type": "text",
        "id": "w1yWqUPYkkKf"
      },
      "source": [
        "## Problem 3. Learning problem\n",
        "Get the best parameters for the model. <br>\n",
        "We can use the following 3 algorithms:\n",
        "* *MLE* (maximum likelihood estimation)\n",
        "* *Viterbi training* (different from Viterbi decoding)\n",
        "* *Baum Welch algorithm* (a.k.a. forward-backward algorithm, uses expectation-maximization)\n",
        "\n",
        "Here we implement the <font color=blue>*Baum Welch algorithm*</font>."
      ]
    },
    {
      "cell_type": "code",
      "metadata": {
        "colab_type": "code",
        "id": "cYyncMhTKFv4",
        "colab": {}
      },
      "source": [
        "def BaumWelch(obs,nStates):\n",
        "\n",
        "\tT = np.shape(obs)[0]\n",
        "\txi = np.zeros((nStates,nStates,T)) \n",
        "\n",
        "\t\t########\n",
        "\t  # Time # #\n",
        "\t######## # #\n",
        "\t######## #\n",
        "\t########  \n",
        "\n",
        "\t# depth = T이므로 t는 항상 모든 list idx 뒷자리에!\n",
        "    \n",
        "\t# Initialise pi, a, b randomly\n",
        "\tpi = 1./nStates*np.ones((nStates))\n",
        "\ta = np.random.rand(nStates,nStates)\n",
        "\tb = np.random.rand(nStates,np.max(obs)+1)         \n",
        "\n",
        "\ttol = 1e-5\n",
        "\terror = tol+1\n",
        "\titer_max = 300\n",
        "\titer = 0\n",
        "\n",
        "\t# TODO: Baum Welch algorithm\n",
        "\t####################### YOUR CODE HERE #######################\n",
        "\twhile ((error>tol) and (iter<iter_max)):\n",
        "\t\titer+=1\n",
        "\t\tpi_old, a_old, b_old = pi.copy(),a.copy(),b.copy()\n",
        "\t\t\t\t\t ######## Estimation ########\n",
        "\t\talpha, c = HMMfwd(pi,a,b,obs)\n",
        "\t\tbeta = HMMbwd(a, b, obs, c)\n",
        "\t\tfor t in range(T):\n",
        "\t\t\tfor si in range(nStates):\n",
        "\t\t\t\tfor sj in range(nStates):\n",
        "\t\t\t\t\tif t == (T-1):                        \n",
        "\t\t\t\t\t\txi[si,sj,t] = alpha[si,t]*a[si,sj]\n",
        "\t\t\t\t\telse: \t\t\t\t\t\t\t\t\t\t\t#as we initialize the last beta as 1, with no b\n",
        "\t\t\t\t\t\txi[si,sj,t] = alpha[si,t]*a[si,sj]*b[sj,obs[t+1]]*beta[sj,t+1] #ppt 87\t\t\t\t\t\t\n",
        "\t\t\txi[:,:,t]/=np.sum(xi[:,:,t])\n",
        "   \t\t\t\t    ######## Maximization ########\n",
        "\t\tfor si in range(nStates):\n",
        "\t\t\t#pi[si] = gamma(t=1(init), si = si)\n",
        "\t\t\t#       = xi sum in sj\n",
        "\t\t\tpi[si] = np.sum(xi[si,:,0])\n",
        "\t\t\tfor sj in range(nStates):\n",
        "\t\t\t\t#gamma(t, si) = xi[si,:,t]\n",
        "\t\t\t\t#gamma(sum in t to T-1, si) = xi[si,:,:T-1]\n",
        "\t\t\t\ta[si,sj] = np.sum(xi[si,sj,:T-1])/np.sum(xi[si,:,:T-1])\n",
        "\t\t\tfor k in range(max(obs)):                    \t\t\t\t\t\t #if f:S->O does not preserves dimensions\t\n",
        "\t\t\t\tidx = [i for i,x in enumerate(obs) if x==k]\n",
        "\t\t\t\tb[si,k] = np.sum(xi[si,:,idx])/np.sum(xi[si,:,:])\n",
        "\t\t\t\t\n",
        "\t\terror = np.abs(a-a_old).max()+np.abs(b-b_old).max()\n",
        "\t\tprint(iter, error, np.sum(c), np.sum(alpha[:,T-1]))\n",
        "\t##############################################################\n",
        "\treturn pi, a, b\t"
      ],
      "execution_count": null,
      "outputs": []
    },
    {
      "cell_type": "markdown",
      "metadata": {
        "colab_type": "text",
        "id": "pcDIJe5hmNPv"
      },
      "source": [
        "## Toy examples\n",
        "Here are the parameters for HMM model."
      ]
    },
    {
      "cell_type": "code",
      "metadata": {
        "colab_type": "code",
        "id": "nsr_jKaSnBi8",
        "colab": {}
      },
      "source": [
        "transition_data = {'state': ['TV', 'Bar', 'Party', 'Study'],\n",
        "                          'TV'    : [0.4, 0.3, 0.1, 0.2],\n",
        "                          'Bar'   : [0.6, 0.05, 0.1, 0.25],\n",
        "                          'Party' : [0.7, 0.05, 0.05, 0.2],\n",
        "                          'Study' : [0.3, 0.4, 0.25, 0.05]}\n",
        "\n",
        "emission_data = {'observation': ['tired', 'hangover', 'anxiety', 'good'],\n",
        "                        'TV'    : [0.2, 0.1, 0.2, 0.5],\n",
        "                        'Bar'   : [0.4, 0.2, 0.1, 0.3],\n",
        "                        'Party' : [0.3, 0.4, 0.2, 0.1],\n",
        "                        'Study' : [0.3, 0.05, 0.3, 0.35]}\n",
        "\n",
        "transition_probability = DataFrame(transition_data, columns=['state', 'TV', 'Bar', 'Party', 'Study'])\n",
        "emission_probability = DataFrame(emission_data, columns=['observation', 'TV', 'Bar', 'Party', 'Study'])"
      ],
      "execution_count": null,
      "outputs": []
    },
    {
      "cell_type": "code",
      "metadata": {
        "colab_type": "code",
        "id": "9pflIWWSsUJg",
        "colab": {
          "base_uri": "https://localhost:8080/",
          "height": 168
        },
        "outputId": "e9ed1e02-c255-4d3a-9096-8a8c72002837"
      },
      "source": [
        "transition_probability"
      ],
      "execution_count": null,
      "outputs": [
        {
          "output_type": "execute_result",
          "data": {
            "text/html": [
              "<div>\n",
              "<style scoped>\n",
              "    .dataframe tbody tr th:only-of-type {\n",
              "        vertical-align: middle;\n",
              "    }\n",
              "\n",
              "    .dataframe tbody tr th {\n",
              "        vertical-align: top;\n",
              "    }\n",
              "\n",
              "    .dataframe thead th {\n",
              "        text-align: right;\n",
              "    }\n",
              "</style>\n",
              "<table border=\"1\" class=\"dataframe\">\n",
              "  <thead>\n",
              "    <tr style=\"text-align: right;\">\n",
              "      <th></th>\n",
              "      <th>state</th>\n",
              "      <th>TV</th>\n",
              "      <th>Bar</th>\n",
              "      <th>Party</th>\n",
              "      <th>Study</th>\n",
              "    </tr>\n",
              "  </thead>\n",
              "  <tbody>\n",
              "    <tr>\n",
              "      <th>0</th>\n",
              "      <td>TV</td>\n",
              "      <td>0.4</td>\n",
              "      <td>0.60</td>\n",
              "      <td>0.70</td>\n",
              "      <td>0.30</td>\n",
              "    </tr>\n",
              "    <tr>\n",
              "      <th>1</th>\n",
              "      <td>Bar</td>\n",
              "      <td>0.3</td>\n",
              "      <td>0.05</td>\n",
              "      <td>0.05</td>\n",
              "      <td>0.40</td>\n",
              "    </tr>\n",
              "    <tr>\n",
              "      <th>2</th>\n",
              "      <td>Party</td>\n",
              "      <td>0.1</td>\n",
              "      <td>0.10</td>\n",
              "      <td>0.05</td>\n",
              "      <td>0.25</td>\n",
              "    </tr>\n",
              "    <tr>\n",
              "      <th>3</th>\n",
              "      <td>Study</td>\n",
              "      <td>0.2</td>\n",
              "      <td>0.25</td>\n",
              "      <td>0.20</td>\n",
              "      <td>0.05</td>\n",
              "    </tr>\n",
              "  </tbody>\n",
              "</table>\n",
              "</div>"
            ],
            "text/plain": [
              "   state   TV   Bar  Party  Study\n",
              "0     TV  0.4  0.60   0.70   0.30\n",
              "1    Bar  0.3  0.05   0.05   0.40\n",
              "2  Party  0.1  0.10   0.05   0.25\n",
              "3  Study  0.2  0.25   0.20   0.05"
            ]
          },
          "metadata": {
            "tags": []
          },
          "execution_count": 96
        }
      ]
    },
    {
      "cell_type": "code",
      "metadata": {
        "colab_type": "code",
        "id": "cz5in1TzsZp5",
        "colab": {
          "base_uri": "https://localhost:8080/",
          "height": 168
        },
        "outputId": "462009e3-79f8-49fa-9e26-5c3fed04fe07"
      },
      "source": [
        "emission_probability"
      ],
      "execution_count": null,
      "outputs": [
        {
          "output_type": "execute_result",
          "data": {
            "text/html": [
              "<div>\n",
              "<style scoped>\n",
              "    .dataframe tbody tr th:only-of-type {\n",
              "        vertical-align: middle;\n",
              "    }\n",
              "\n",
              "    .dataframe tbody tr th {\n",
              "        vertical-align: top;\n",
              "    }\n",
              "\n",
              "    .dataframe thead th {\n",
              "        text-align: right;\n",
              "    }\n",
              "</style>\n",
              "<table border=\"1\" class=\"dataframe\">\n",
              "  <thead>\n",
              "    <tr style=\"text-align: right;\">\n",
              "      <th></th>\n",
              "      <th>observation</th>\n",
              "      <th>TV</th>\n",
              "      <th>Bar</th>\n",
              "      <th>Party</th>\n",
              "      <th>Study</th>\n",
              "    </tr>\n",
              "  </thead>\n",
              "  <tbody>\n",
              "    <tr>\n",
              "      <th>0</th>\n",
              "      <td>tired</td>\n",
              "      <td>0.2</td>\n",
              "      <td>0.4</td>\n",
              "      <td>0.3</td>\n",
              "      <td>0.30</td>\n",
              "    </tr>\n",
              "    <tr>\n",
              "      <th>1</th>\n",
              "      <td>hangover</td>\n",
              "      <td>0.1</td>\n",
              "      <td>0.2</td>\n",
              "      <td>0.4</td>\n",
              "      <td>0.05</td>\n",
              "    </tr>\n",
              "    <tr>\n",
              "      <th>2</th>\n",
              "      <td>anxiety</td>\n",
              "      <td>0.2</td>\n",
              "      <td>0.1</td>\n",
              "      <td>0.2</td>\n",
              "      <td>0.30</td>\n",
              "    </tr>\n",
              "    <tr>\n",
              "      <th>3</th>\n",
              "      <td>good</td>\n",
              "      <td>0.5</td>\n",
              "      <td>0.3</td>\n",
              "      <td>0.1</td>\n",
              "      <td>0.35</td>\n",
              "    </tr>\n",
              "  </tbody>\n",
              "</table>\n",
              "</div>"
            ],
            "text/plain": [
              "  observation   TV  Bar  Party  Study\n",
              "0       tired  0.2  0.4    0.3   0.30\n",
              "1    hangover  0.1  0.2    0.4   0.05\n",
              "2     anxiety  0.2  0.1    0.2   0.30\n",
              "3        good  0.5  0.3    0.1   0.35"
            ]
          },
          "metadata": {
            "tags": []
          },
          "execution_count": 97
        }
      ]
    },
    {
      "cell_type": "code",
      "metadata": {
        "colab_type": "code",
        "id": "XMoWszk7aKN9",
        "colab": {}
      },
      "source": [
        "try:\n",
        "    a = transition_probability.drop(['state'], axis=1).to_numpy()\n",
        "    b = emission_probability.drop(['observation'], axis=1).to_numpy()\n",
        "except:\n",
        "    a = transition_probability.drop(['state'], axis=1).values\n",
        "    b = emission_probability.drop(['observation'], axis=1).values"
      ],
      "execution_count": null,
      "outputs": []
    },
    {
      "cell_type": "code",
      "metadata": {
        "colab_type": "code",
        "id": "c8g8LFTL6ErZ",
        "colab": {}
      },
      "source": [
        "# Assume the initial state probabilites are all equal to 0.25\n",
        "pi = np.array([0.25, 0.25, 0.25, 0.25])\n",
        "kibun = np.array(['tired', 'tired', 'good', 'hangover', 'hangover', 'anxiety', 'hangover', 'good'])\n",
        "obs = np.array([0, 0, 3, 1, 1, 2, 1, 3])"
      ],
      "execution_count": null,
      "outputs": []
    },
    {
      "cell_type": "markdown",
      "metadata": {
        "colab_type": "text",
        "id": "tvLi0R9a5m3r"
      },
      "source": [
        "## Problem 4-1. \n",
        "What is the probability of seeing current observation?"
      ]
    },
    {
      "cell_type": "code",
      "metadata": {
        "colab_type": "code",
        "id": "GRylHpiKK2yu",
        "colab": {
          "base_uri": "https://localhost:8080/",
          "height": 235
        },
        "outputId": "a9471a65-4306-4f75-e646-4a5477155564"
      },
      "source": [
        "####################### YOUR CODE HERE #######################\n",
        "alpha, c = HMMfwd(pi, a, b, obs)\n",
        "print(alpha,'\\n')\n",
        "print(alpha[:,-1])\n",
        "print(\"Total sequence probability = \", np.sum(alpha[:,-1]))\n",
        "print('kibun = ',[kibun[i] for i in obs])\n",
        "##############################################################"
      ],
      "execution_count": null,
      "outputs": [
        {
          "output_type": "stream",
          "text": [
            "[[5.00000000e-02 3.10000000e-02 1.90062500e-02 1.29575938e-03\n",
            "  2.61938789e-04 6.39928405e-05 5.18474735e-06 5.71393125e-06]\n",
            " [1.00000000e-01 2.15000000e-02 5.21625000e-03 1.61205625e-03\n",
            "  1.31105875e-04 1.13366757e-05 7.01163974e-06 7.94971063e-07]\n",
            " [7.50000000e-02 1.12500000e-02 9.84375000e-04 1.50068125e-03\n",
            "  1.74117422e-04 1.20425619e-05 6.92687805e-06 1.81445352e-07]\n",
            " [7.50000000e-02 1.61250000e-02 5.12093750e-03 2.77911719e-04\n",
            "  4.88098887e-05 3.67284616e-05 9.93883625e-07 1.47872522e-06]] \n",
            "\n",
            "[5.71393125e-06 7.94971063e-07 1.81445352e-07 1.47872522e-06]\n",
            "Total sequence probability =  8.169072883039616e-06\n",
            "kibun =  ['tired', 'tired', 'hangover', 'tired', 'tired', 'good', 'tired', 'hangover']\n"
          ],
          "name": "stdout"
        }
      ]
    },
    {
      "cell_type": "markdown",
      "metadata": {
        "colab_type": "text",
        "id": "1vRZuEAnK2yw"
      },
      "source": [
        "## Problem 4-2.\n",
        "Given the current observation, what is the most likely sequence of states?"
      ]
    },
    {
      "cell_type": "code",
      "metadata": {
        "colab_type": "code",
        "id": "H0l3-NkXK2yx",
        "colab": {
          "base_uri": "https://localhost:8080/",
          "height": 54
        },
        "outputId": "f6c1e41f-e1da-4edb-cfe2-aa8131aeda06"
      },
      "source": [
        "####################### YOUR CODE HERE #######################\n",
        "print(\"Maximum probable path = \", Viterbi(pi, a, b, obs)[0])\n",
        "MAX_PATH = Viterbi(pi, a, b, obs)[0]           #hidden state\n",
        "STATE = ['TV', 'Bar', 'Party', 'Study']\n",
        "print(\"Hidden state = \", [STATE[int(i)] for i in MAX_PATH])\n",
        "##############################################################"
      ],
      "execution_count": null,
      "outputs": [
        {
          "output_type": "stream",
          "text": [
            "Maximum probable path =  [3. 1. 0. 1. 0. 3. 2. 0.]\n",
            "Hidden state =  ['Study', 'Bar', 'TV', 'Bar', 'TV', 'Study', 'Party', 'TV']\n"
          ],
          "name": "stdout"
        }
      ]
    },
    {
      "cell_type": "markdown",
      "metadata": {
        "colab_type": "text",
        "id": "LGr1JvFSK2y0"
      },
      "source": [
        "## Problem 4-3.\n",
        "Given the current observation and the model, find the model parameters (transition probability, emission probability, initial state probability) that best fits the data."
      ]
    },
    {
      "cell_type": "code",
      "metadata": {
        "colab_type": "code",
        "id": "H_KiGJHzK2y1",
        "scrolled": true,
        "colab": {
          "base_uri": "https://localhost:8080/",
          "height": 1000
        },
        "outputId": "e1103067-5c7a-47de-88c0-2a3cac69b132"
      },
      "source": [
        "####################### YOUR CODE HERE #######################\n",
        "pi, a, b = BaumWelch(obs,4)\n",
        "print(pi,'\\n',a,'\\n',b)\n",
        "##############################################################"
      ],
      "execution_count": null,
      "outputs": [
        {
          "output_type": "stream",
          "text": [
            "1 1.3457104241992455 8.0 0.7165129626001095\n",
            "2 0.1878672778807866 8.0 7.539465554828826e-05\n",
            "3 0.2697638403642004 8.0 6.684423405999526e-05\n",
            "4 0.24892894338537525 8.0 0.00012359896820549594\n",
            "5 0.25627277027138107 8.0 0.00017367025272071744\n",
            "6 0.15950587564992458 8.0 0.0001263826531690465\n",
            "7 0.1551632236513966 8.0 2.0673984170967046e-05\n",
            "8 0.2500273035601085 8.0 1.4325493485755378e-06\n",
            "9 0.2152880600575372 8.0 9.342907477225536e-08\n",
            "10 0.2106841953004427 8.0 1.3120200970117484e-08\n",
            "11 0.1994566214199136 8.0 3.469062491965253e-09\n",
            "12 0.16382415658615945 8.0 1.017518462080823e-09\n",
            "13 0.12663411476404918 8.0 2.989267271896948e-10\n",
            "14 0.07259391163752027 8.0 8.051580067756092e-11\n",
            "15 0.10603766235863715 8.0 1.9118721149033117e-11\n",
            "16 0.41856922673030367 8.0 4.533950083431576e-12\n",
            "17 0.027570301358632032 8.0 8.596978578969372e-13\n",
            "18 0.014307405732266854 8.0 1.7647035280542814e-13\n",
            "19 0.011001339919015418 8.0 3.724254352181277e-14\n",
            "20 0.008657817091350717 8.0 7.855577195248331e-15\n",
            "21 0.006932128965355333 8.0 1.6568769805950458e-15\n",
            "22 0.0056230381740091095 8.0 3.495381769175188e-16\n",
            "23 0.0046067264761888715 8.0 7.376387667674076e-17\n",
            "24 0.003803383168537122 8.0 1.5572397202923555e-17\n",
            "25 0.0031593717421346534 8.0 3.2887425169002087e-18\n",
            "26 0.002637306221099922 8.0 6.947972993792592e-19\n",
            "27 0.002210302274753051 8.0 1.4683425509541761e-19\n",
            "28 0.0018585138190557737 8.0 3.104012198038318e-20\n",
            "29 0.0015669664644966108 8.0 6.56344702920127e-21\n",
            "30 0.001324153692888741 8.0 1.3881601400012987e-21\n",
            "31 0.0011210976670171235 8.0 2.9365252928771987e-22\n",
            "32 0.0009507027338763185 8.0 6.213027831458654e-23\n",
            "33 0.0008072991407779284 8.0 1.3147350573065268e-23\n",
            "34 0.0006863139058113366 8.0 2.782465369618767e-24\n",
            "35 0.0005840288557886486 8.0 5.88938774501172e-25\n",
            "36 0.0004973997620857373 8.0 1.246673270053566e-25\n",
            "37 0.00042391914727457625 8.0 2.639194588245752e-26\n",
            "38 0.000361510850093949 8.0 5.587549297366768e-27\n",
            "39 0.00030844804360674605 8.0 1.1830364605225382e-27\n",
            "40 0.0002632888142714285 8.0 2.5049433714477194e-28\n",
            "41 0.00022482505596099767 8.0 5.304170240813938e-29\n",
            "42 0.00019204157614616246 8.0 1.1231918638361632e-29\n",
            "43 0.00016408311777985074 8.0 2.3785099961786334e-30\n",
            "44 0.0001402275771135164 8.0 5.036959704158103e-31\n",
            "45 0.00011986411540904074 8.0 1.066700881856149e-31\n",
            "46 0.00010247516862138539 8.0 2.259050736978383e-32\n",
            "47 8.762158585287616e-05 8.0 4.784286266982097e-33\n",
            "48 7.493029705862853e-05 8.0 1.0132463487386637e-33\n",
            "49 6.408403865990064e-05 8.0 2.145945509541767e-34\n",
            "50 5.481276347973907e-05 8.0 4.544930633074869e-35\n",
            "51 4.6886436610799054e-05 8.0 9.625871212525708e-36\n",
            "52 4.010897719253226e-05 8.0 2.0387146621314808e-36\n",
            "53 3.431315172364169e-05 8.0 4.317933386036832e-37\n",
            "54 2.9356260544038948e-05 8.0 9.145302538614022e-38\n",
            "55 2.511648773895203e-05 8.0 1.9369681620009257e-38\n",
            "56 2.148980759861252e-05 8.0 4.102502244338885e-39\n",
            "57 1.8387359230431777e-05 8.0 8.689140763672585e-40\n",
            "58 1.5733215864788264e-05 8.0 1.840374722560166e-40\n",
            "59 1.3462487609083862e-05 8.0 3.8979557344759694e-41\n",
            "60 1.1519706393348095e-05 8.0 8.25597914879004e-42\n",
            "61 9.857450108091692e-06 8.0 1.7486430378710645e-42\n",
            "[1. 0. 0. 0.] \n",
            " [[5.00000000e-01 5.00000000e-01 0.00000000e+00 0.00000000e+00]\n",
            " [2.27112097e-41 4.37013254e-47 2.16424388e-01 7.83575612e-01]\n",
            " [0.00000000e+00 1.00000000e+00 0.00000000e+00 7.57771689e-37]\n",
            " [0.00000000e+00 1.00000000e+00 0.00000000e+00 5.33299276e-55]] \n",
            " [[1.         0.         0.         0.47262131]\n",
            " [0.         0.66666667 0.         0.26092216]\n",
            " [0.         0.         0.56098379 0.97961626]\n",
            " [0.         0.4253686  0.27047772 0.6786854 ]]\n"
          ],
          "name": "stdout"
        }
      ]
    },
    {
      "cell_type": "code",
      "metadata": {
        "colab_type": "code",
        "id": "V6VXeQ3agO7O",
        "colab": {
          "base_uri": "https://localhost:8080/",
          "height": 72
        },
        "outputId": "588d7b34-2f36-4931-c92a-3bb88b0b5ef4"
      },
      "source": [
        "print(np.sum(a, axis = 1),'\\n',np.sum(b, axis = 1))\n",
        "print(np.sum(b))"
      ],
      "execution_count": null,
      "outputs": [
        {
          "output_type": "stream",
          "text": [
            "[1. 1. 1. 1.] \n",
            " [1.47262131 0.92758882 1.54060006 1.37453172]\n",
            "5.315341910877056\n"
          ],
          "name": "stdout"
        }
      ]
    }
  ]
}